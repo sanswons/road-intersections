{
 "cells": [
  {
   "cell_type": "code",
   "execution_count": null,
   "metadata": {
    "collapsed": false
   },
   "outputs": [],
   "source": [
    "%pylab inline\n",
    "import matplotlib.pyplot as plt\n",
    "import matplotlib.image as mpimg\n",
    "import pandas as pd\n",
    "import random"
   ]
  },
  {
   "cell_type": "code",
   "execution_count": null,
   "metadata": {
    "collapsed": true
   },
   "outputs": [],
   "source": [
    "images_folder = '/home/vajoshi/courses/osm/road-intersections/data/images/'\n",
    "data_dir = '../data/'\n",
    "city = 'Tucson'"
   ]
  },
  {
   "cell_type": "code",
   "execution_count": null,
   "metadata": {
    "collapsed": false
   },
   "outputs": [],
   "source": [
    "cluster_file = data_dir + city + '_clustered_intersection_df_10.pkl'\n",
    "clustered_intersections = pd.read_pickle(cluster_file)\n",
    "\n",
    "clusters = list(set(clustered_intersections['cluster_no']))"
   ]
  },
  {
   "cell_type": "code",
   "execution_count": null,
   "metadata": {
    "collapsed": false
   },
   "outputs": [],
   "source": [
    "len(clustered_intersections[clustered_intersections['no_of_unique_ways'] == 3][clustered_intersections['no_of_ways']==3])"
   ]
  },
  {
   "cell_type": "code",
   "execution_count": null,
   "metadata": {
    "collapsed": false
   },
   "outputs": [],
   "source": [
    "cluster_node_dict = {}\n",
    "for cluster in clusters:\n",
    "    cluster_rows = clustered_intersections[clustered_intersections['cluster_no'] == cluster]\n",
    "    cluster_node_dict[cluster] = list(cluster_rows['id'])"
   ]
  },
  {
   "cell_type": "code",
   "execution_count": null,
   "metadata": {
    "collapsed": false,
    "scrolled": true
   },
   "outputs": [],
   "source": [
    "import numpy as np\n",
    "import matplotlib.pyplot as plt\n",
    "\n",
    "cluster_nodes = cluster_node_dict\n",
    "#samples per class has to be multiple of 2\n",
    "\n",
    "#clusters = cluster_nodes.keys()\n",
    "clusters = cluster_nodes.keys()\n",
    "num_classes = len(clusters)\n",
    "samples_per_class = 10\n",
    "columns = 2\n",
    "rows= samples_per_class/columns\n",
    "\n",
    "print 'number of clusters: ', num_classes\n",
    "print '********', cluster_file, \"**********\"\n",
    " \n",
    "'''\n",
    "Assume, we get a dictionary such that it has cluster numbers and corresponding ids\n",
    "'''\n",
    "plt_list= []\n",
    "\n",
    "for y, cls in enumerate(clusters):\n",
    "    print \"****Cluster****\", cls\n",
    "    \n",
    "    image_ids = random.sample(cluster_nodes[cls], samples_per_class)\n",
    "    fig=plt.figure(figsize=(20, 20))\n",
    "    plt_idx = 0\n",
    "    for i, idx in enumerate(image_ids):\n",
    "        plt_idx += 1\n",
    "        img=mpimg.imread(images_folder+idx+\".jpeg\")\n",
    "        fig.add_subplot(rows, columns, plt_idx)\n",
    "        plt.title(idx)\n",
    "\n",
    "        plt.imshow(img)\n",
    "        plt.axis('off')\n",
    "\n",
    "    plt.show()"
   ]
  }
 ],
 "metadata": {
  "kernelspec": {
   "display_name": "Python 2",
   "language": "python",
   "name": "python2"
  },
  "language_info": {
   "codemirror_mode": {
    "name": "ipython",
    "version": 2
   },
   "file_extension": ".py",
   "mimetype": "text/x-python",
   "name": "python",
   "nbconvert_exporter": "python",
   "pygments_lexer": "ipython2",
   "version": "2.7.12"
  }
 },
 "nbformat": 4,
 "nbformat_minor": 0
}
