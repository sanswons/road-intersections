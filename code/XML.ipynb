{
 "cells": [
  {
   "cell_type": "code",
   "execution_count": 1,
   "metadata": {
    "collapsed": true
   },
   "outputs": [],
   "source": [
    "#Read XML files \n",
    "import xml.etree.ElementTree as ET\n",
    "import requests"
   ]
  },
  {
   "cell_type": "code",
   "execution_count": 2,
   "metadata": {
    "collapsed": true
   },
   "outputs": [],
   "source": [
    "tree = ET.parse('../data/Tucson.osm')"
   ]
  },
  {
   "cell_type": "code",
   "execution_count": 3,
   "metadata": {
    "collapsed": false
   },
   "outputs": [
    {
     "name": "stdout",
     "output_type": "stream",
     "text": [
      "457331\n",
      "62266\n"
     ]
    }
   ],
   "source": [
    "root = tree.getroot()\n",
    "\n",
    "nodes = root.findall('node')\n",
    "print len(nodes)\n",
    "\n",
    "ways = root.findall('way')\n",
    "print len(ways)\n"
   ]
  },
  {
   "cell_type": "code",
   "execution_count": null,
   "metadata": {
    "collapsed": false
   },
   "outputs": [],
   "source": [
    "print len(ways)"
   ]
  },
  {
   "cell_type": "code",
   "execution_count": null,
   "metadata": {
    "collapsed": false
   },
   "outputs": [],
   "source": [
    "ways_nodes = {}\n",
    "\n",
    "for way in ways:\n",
    "    node_in_way = way.findall(\"./nd\")\n",
    "    ids = [node.get('ref') for node in node_in_way]\n",
    "    for id in ids:\n",
    "        ids = [node.get('ref') for node in node_in_way]\n",
    "    ways_nodes[way.get('id')] = ids\n",
    "\n",
    "#print ways_nodes\n",
    "\n"
   ]
  },
  {
   "cell_type": "code",
   "execution_count": null,
   "metadata": {
    "collapsed": false
   },
   "outputs": [],
   "source": [
    "nodes_ways = {}\n",
    "\n",
    "for way in ways[:500]:\n",
    "    node_in_way = way.findall(\"./nd\")\n",
    "    way_id = way.get('id')\n",
    "    ids = [node.get('ref') for node in node_in_way]\n",
    "    for node_id in ids:\n",
    "        if node_id in nodes_ways.keys():\n",
    "            nodes_ways[node_id].append(way_id)\n",
    "        else:\n",
    "            nodes_ways[node_id] = [way_id]\n",
    "            \n",
    "intersections = [node_id for node_id in nodes_ways.keys() if len(nodes_ways[node_id]) > 1]"
   ]
  },
  {
   "cell_type": "code",
   "execution_count": null,
   "metadata": {
    "collapsed": false
   },
   "outputs": [],
   "source": [
    "print len(intersections)\n",
    "\n",
    "nodes_ways['2330193315']\n",
    "\n",
    "#print intersections[:50]"
   ]
  },
  {
   "cell_type": "code",
   "execution_count": null,
   "metadata": {
    "collapsed": true
   },
   "outputs": [],
   "source": [
    "nodes = root.findall(\"./node\")\n",
    "\n",
    "for node in nodes[:500]:\n",
    "    tags = node.findall('./tag')\n",
    "    print tags\n",
    "\n",
    "intersections = {}\n",
    "\n",
    "    "
   ]
  },
  {
   "cell_type": "code",
   "execution_count": null,
   "metadata": {
    "collapsed": false
   },
   "outputs": [],
   "source": [
    "node_in_ways = root.findall(\"./way/nd\")\n",
    "print [node.get('ref') for node in node_in_ways[:50]]"
   ]
  },
  {
   "cell_type": "code",
   "execution_count": null,
   "metadata": {
    "collapsed": true
   },
   "outputs": [],
   "source": [
    "node = root.findall(\"./node\")"
   ]
  },
  {
   "cell_type": "code",
   "execution_count": null,
   "metadata": {
    "collapsed": false
   },
   "outputs": [],
   "source": [
    "print node[:50]"
   ]
  },
  {
   "cell_type": "code",
   "execution_count": null,
   "metadata": {
    "collapsed": true
   },
   "outputs": [],
   "source": []
  }
 ],
 "metadata": {
  "kernelspec": {
   "display_name": "Python 2",
   "language": "python",
   "name": "python2"
  },
  "language_info": {
   "codemirror_mode": {
    "name": "ipython",
    "version": 2
   },
   "file_extension": ".py",
   "mimetype": "text/x-python",
   "name": "python",
   "nbconvert_exporter": "python",
   "pygments_lexer": "ipython2",
   "version": "2.7.12"
  }
 },
 "nbformat": 4,
 "nbformat_minor": 0
}
