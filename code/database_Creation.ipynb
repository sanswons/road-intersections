{
 "cells": [
  {
   "cell_type": "code",
   "execution_count": null,
   "metadata": {
    "collapsed": false
   },
   "outputs": [],
   "source": [
    "import xml.etree.ElementTree as ET\n",
    "import requests\n",
    "import pandas as pd\n",
    "import numpy as np\n",
    "import pickle"
   ]
  },
  {
   "cell_type": "markdown",
   "metadata": {},
   "source": [
    "## Data for the project:\n",
    "1. You can download data from: https://download.bbbike.org/osm/bbbike/\n",
    "2. Store the data in '../data' directory"
   ]
  },
  {
   "cell_type": "code",
   "execution_count": null,
   "metadata": {
    "collapsed": true
   },
   "outputs": [],
   "source": [
    "data_dir = '../data/'\n",
    "city = 'Tucson'"
   ]
  },
  {
   "cell_type": "code",
   "execution_count": null,
   "metadata": {
    "collapsed": false
   },
   "outputs": [],
   "source": [
    "osm_file = data_dir + city + '.osm'\n",
    "tree = ET.parse(osm_file)\n",
    "root = tree.getroot()"
   ]
  },
  {
   "cell_type": "markdown",
   "metadata": {},
   "source": [
    "## Description of OSM properties:\n",
    "\n",
    "Opens Street Map properties could be found at https://wiki.openstreetmap.org/wiki/Map_Features\n",
    "\n",
    "We have chosen few features for these project. Description follows.\n",
    "interesting_node_tags: Node properties which positively correlate intersection clusters.\n",
    "\n",
    "uninteresting_tags: nodes and ways properties which can be used to filter irrelevant ways, nodes which do not characterise interactions\n"
   ]
  },
  {
   "cell_type": "code",
   "execution_count": null,
   "metadata": {
    "collapsed": true
   },
   "outputs": [],
   "source": [
    "uninteresting_tags = ['aerialway','aeroway','amenity','barrier','boundary','building','craft','geological',\n",
    "                      'historic','landuse','leisure','man_made','military','natural','office','power','line',\n",
    "                      'public_transport','shop','sport','waterway']\n",
    "\n",
    "interesting_node_tags = ['crossing','toll','traffic_sign']\n",
    "\n",
    "interesting_way_tags = ['name','hgv','lanes','oneway','bicycle','highway','bridge','layer','cycleway',\n",
    "                        'sidewalk','busway','abutters','bicycle_road','driving_side','ford','ice_road','incline',\n",
    "                       'junction','lit','motorroad','mountain_pass','mtb:scale','mtb:scale:uphill','mtb:description',\n",
    "                       'overtaking','parking:condition','parking:lane','parking_places','sac_scale','service',\n",
    "                       'surface','tactile_paving','tracktype','traffic_calming','trail_visibility','winter_road',\n",
    "                       'place','railway','electrified','embankment','route','tourism','charge', 'location','narrow',\n",
    "                       'tunnel','width','access','agriculture','maxheight','maxspeed','maxlength','maxstay',\n",
    "                       'maxwidth','maxweight','minspeed','noexit']"
   ]
  },
  {
   "cell_type": "markdown",
   "metadata": {},
   "source": [
    "## Create a dataframe for nodes"
   ]
  },
  {
   "cell_type": "code",
   "execution_count": null,
   "metadata": {
    "collapsed": false
   },
   "outputs": [],
   "source": [
    "nodes_df = pd.DataFrame()\n",
    "\n",
    "nodes = root.findall('./node')\n",
    "\n",
    "row_id = 1\n",
    "\n",
    "for node in nodes:\n",
    "    flag = 0\n",
    "    node_d = {}\n",
    "    \n",
    "    node_d['lat'] = node.get('lat')\n",
    "    node_d['lon'] = node.get('lon')\n",
    "    node_d['id'] = node.get('id')\n",
    "    node_d['version'] = node.get('version')\n",
    "    \n",
    "    for tag in interesting_node_tags:\n",
    "        node_d[tag] = None\n",
    "    \n",
    "    if node.findall('./tag'):\n",
    "        tags = node.findall('./tag')\n",
    "        for tag in tags:\n",
    "            \n",
    "            if tag.get('k') in uninteresting_tags:\n",
    "                flag = 1\n",
    "                break\n",
    "                \n",
    "            if tag.get('k') in interesting_node_tags:\n",
    "                node_d[tag.get('k')] = tag.get('v')\n",
    "    \n",
    "    if flag==0:\n",
    "        row = pd.DataFrame(node_d, index = [row_id])\n",
    "        row_id +=1 \n",
    "    \n",
    "    nodes_df = nodes_df.append(row)"
   ]
  },
  {
   "cell_type": "code",
   "execution_count": null,
   "metadata": {
    "collapsed": false
   },
   "outputs": [],
   "source": [
    "nodes_df = nodes_df.drop_duplicates(subset='id')\n",
    "\n",
    "nodes_df_file = data_dir + city + '_nodes_df.pkl'\n",
    "nodes_df.to_pickle(nodes_df_file)"
   ]
  },
  {
   "cell_type": "markdown",
   "metadata": {},
   "source": [
    "## Create dataframe for ways"
   ]
  },
  {
   "cell_type": "code",
   "execution_count": null,
   "metadata": {
    "collapsed": false
   },
   "outputs": [],
   "source": [
    "ways_df = pd.DataFrame()\n",
    "\n",
    "ways = root.findall('./way')\n",
    "\n",
    "row_id = 1\n",
    "\n",
    "for way in ways:\n",
    "    flag = 0\n",
    "    way_d = {}\n",
    "    \n",
    "    way_d['id'] = way.get('id')\n",
    "    way_d['version'] = way.get('version')\n",
    "    way_d['nodes'] = []\n",
    "    \n",
    "    for tag in interesting_way_tags:\n",
    "        way_d[tag] = None\n",
    "    \n",
    "            \n",
    "    if way.findall('./tag'):\n",
    "        tags = way.findall('./tag')\n",
    "        for tag in tags:\n",
    "            if tag.get('k') in uninteresting_tags:\n",
    "                flag = 1\n",
    "                break\n",
    "            if tag.get('k') in interesting_way_tags:\n",
    "                way_d[tag.get('k')] = tag.get('v')\n",
    "    \n",
    "    if way.findall('./nd'):\n",
    "        nodes = way.findall('./nd')\n",
    "        way_d['nodes'] = [node.get('ref') for node in nodes]\n",
    "        \n",
    "    if flag==0:\n",
    "        row = pd.DataFrame([way_d], index = [row_id])\n",
    "        row_id +=1 \n",
    "    \n",
    "    ways_df = ways_df.append(row)"
   ]
  },
  {
   "cell_type": "code",
   "execution_count": null,
   "metadata": {
    "collapsed": true
   },
   "outputs": [],
   "source": [
    "ways_df_file = data_dir + city + '_ways_df.pkl'\n",
    "ways_df.to_pickle(ways_df_file)"
   ]
  },
  {
   "cell_type": "markdown",
   "metadata": {},
   "source": [
    "### Read data from stored pickle files\n",
    "If you have pickle files created, following commands can be run instead of running previous steps again"
   ]
  },
  {
   "cell_type": "code",
   "execution_count": null,
   "metadata": {
    "collapsed": false
   },
   "outputs": [],
   "source": [
    "nodes_df = pd.read_pickle(nodes_df_file)\n",
    "ways_df = pd.read_pickle(ways_df_file)\n",
    "nodes_df = nodes_df.drop_duplicates(subset='id')\n",
    "ways_df = ways_df.drop_duplicates(subset='id')"
   ]
  },
  {
   "cell_type": "markdown",
   "metadata": {},
   "source": [
    "## Properties for intersection\n",
    "These osm properties have beesn chosen to represent ways/nodes forming intersections"
   ]
  },
  {
   "cell_type": "code",
   "execution_count": null,
   "metadata": {
    "collapsed": true
   },
   "outputs": [],
   "source": [
    "interesting_way_tags = list(set(['name','hgv','lanes','oneway','bicycle','highway','bridge','layer','cycleway',\n",
    "                        'sidewalk','busway','abutters','bicycle_road','driving_side','ford','ice_road','incline',\n",
    "                       'junction','lit','motorroad','mountain_pass','mtb:scale','mtb:scale:uphill','mtb:description',\n",
    "                       'overtaking','parking:condition','parking:lane','parking_places','sac_scale','service',\n",
    "                       'surface','tactile_paving','tracktype','traffic_calming','trail_visibility','winter_road',\n",
    "                       'place','railway','electrified','embankment','route','tourism','charge', 'location','narrow',\n",
    "                       'tunnel','width','access','agriculture','maxheight','maxspeed','maxlength','maxstay',\n",
    "                       'maxwidth','maxweight','minspeed','noexit','maxspeed']))"
   ]
  },
  {
   "cell_type": "markdown",
   "metadata": {},
   "source": [
    "### Create empty lists in nodes dataframe for all interesting_way_tags"
   ]
  },
  {
   "cell_type": "code",
   "execution_count": null,
   "metadata": {
    "collapsed": false
   },
   "outputs": [],
   "source": [
    "nodes_df['ways'] = np.empty((len(nodes_df), 0)).tolist()\n",
    "\n",
    "for feature in interesting_way_tags:\n",
    "    nodes_df[feature] = np.empty((len(nodes_df), 0)).tolist()"
   ]
  },
  {
   "cell_type": "code",
   "execution_count": null,
   "metadata": {
    "collapsed": false
   },
   "outputs": [],
   "source": [
    "for i in range(len(ways_df)):\n",
    "    way = ways_df.iloc[[i]]\n",
    "    # get all nodes in a way\n",
    "    node_list = way['nodes'].tolist()[0]\n",
    "    \n",
    "    # create node subset for nodes in node_list\n",
    "    sub_nodes_df = nodes_df[nodes_df['id'].isin(node_list)]\n",
    "    \n",
    "    # insert list of way_id in ways column\n",
    "    sub_nodes_df['ways'].apply(lambda x: x.extend(way['id']))\n",
    "    \n",
    "    # insert values of features in interesting_way_tags in the created subset\n",
    "    for feature in interesting_way_tags:\n",
    "        sub_nodes_df[feature].apply(lambda x: x.extend(way[feature]))"
   ]
  },
  {
   "cell_type": "code",
   "execution_count": null,
   "metadata": {
    "collapsed": false
   },
   "outputs": [],
   "source": [
    "# add a column in nodes dataframe which depicts total number of ways at an intersection\n",
    "\n",
    "nodes_df['no_of_ways'] = nodes_df['ways'].apply(lambda x: len(x))"
   ]
  },
  {
   "cell_type": "markdown",
   "metadata": {},
   "source": [
    "## Store all dataframes with properties in pickle"
   ]
  },
  {
   "cell_type": "code",
   "execution_count": null,
   "metadata": {
    "collapsed": false
   },
   "outputs": [],
   "source": [
    "nodes_df_features = data_dir + city + '_nodes_df_features.pkl' \n",
    "nodes_df.to_pickle(nodes_df_features)\n",
    "\n",
    "intersections_df = nodes_df[nodes_df['no_of_ways']>2]\n",
    "\n",
    "\n",
    "intersections_df_features = data_dir + city + '_intersections_df_features.pkl' \n",
    "intersections_df.to_pickle(intersections_df_features)"
   ]
  }
 ],
 "metadata": {
  "kernelspec": {
   "display_name": "Python 2",
   "language": "python",
   "name": "python2"
  },
  "language_info": {
   "codemirror_mode": {
    "name": "ipython",
    "version": 2
   },
   "file_extension": ".py",
   "mimetype": "text/x-python",
   "name": "python",
   "nbconvert_exporter": "python",
   "pygments_lexer": "ipython2",
   "version": "2.7.12"
  }
 },
 "nbformat": 4,
 "nbformat_minor": 0
}
